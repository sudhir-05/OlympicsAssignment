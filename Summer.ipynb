{
  "nbformat": 4,
  "nbformat_minor": 0,
  "metadata": {
    "kernelspec": {
      "display_name": "Python 3",
      "language": "python",
      "name": "python3"
    },
    "language_info": {
      "codemirror_mode": {
        "name": "ipython",
        "version": 3
      },
      "file_extension": ".py",
      "mimetype": "text/x-python",
      "name": "python",
      "nbconvert_exporter": "python",
      "pygments_lexer": "ipython3",
      "version": "3.8.8"
    },
    "colab": {
      "name": "Summer.ipynb",
      "provenance": [],
      "toc_visible": true,
      "include_colab_link": true
    }
  },
  "cells": [
    {
      "cell_type": "markdown",
      "metadata": {
        "id": "view-in-github",
        "colab_type": "text"
      },
      "source": [
        "<a href=\"https://colab.research.google.com/github/xpes/SummerOlympicsAssignment/blob/main/Summer.ipynb\" target=\"_parent\"><img src=\"https://colab.research.google.com/assets/colab-badge.svg\" alt=\"Open In Colab\"/></a>"
      ]
    },
    {
      "cell_type": "code",
      "metadata": {
        "id": "-DH9RIBnb3iS"
      },
      "source": [
        "import pandas as pd\n",
        "import numpy as np\n",
        "import matplotlib.pyplot as plt\n",
        "\n",
        "df = pd.read_csv(\"summer.csv\")\n"
      ],
      "execution_count": 1,
      "outputs": []
    },
    {
      "cell_type": "markdown",
      "metadata": {
        "id": "Xwr1LLnCb3iV"
      },
      "source": [
        "# Summer Olympics Data Analysis Assignment"
      ]
    },
    {
      "cell_type": "markdown",
      "metadata": {
        "id": "YJz7QWQCb3iW"
      },
      "source": [
        "### 1. In how many cities Summer Olympics is held so far?"
      ]
    },
    {
      "cell_type": "code",
      "metadata": {
        "colab": {
          "base_uri": "https://localhost:8080/"
        },
        "id": "mDuzIcjlb3iX",
        "outputId": "82756889-300a-4472-9e4f-bf5fd1cebdd6"
      },
      "source": [
        "print(\"Number of cities :\", len(df['City'].unique()))\n",
        "for x in df['City'].unique():\n",
        "    print(x)"
      ],
      "execution_count": 2,
      "outputs": [
        {
          "output_type": "stream",
          "name": "stdout",
          "text": [
            "Number of cities : 22\n",
            "Athens\n",
            "Paris\n",
            "St Louis\n",
            "London\n",
            "Stockholm\n",
            "Antwerp\n",
            "Amsterdam\n",
            "Los Angeles\n",
            "Berlin\n",
            "Helsinki\n",
            "Melbourne / Stockholm\n",
            "Rome\n",
            "Tokyo\n",
            "Mexico\n",
            "Munich\n",
            "Montreal\n",
            "Moscow\n",
            "Seoul\n",
            "Barcelona\n",
            "Atlanta\n",
            "Sydney\n",
            "Beijing\n"
          ]
        }
      ]
    },
    {
      "cell_type": "markdown",
      "metadata": {
        "id": "JQ5LgpX8b3iY"
      },
      "source": [
        "### 2. Which sport is having most number of Gold Medals so far? (Top 5)"
      ]
    },
    {
      "cell_type": "code",
      "metadata": {
        "colab": {
          "base_uri": "https://localhost:8080/",
          "height": 399
        },
        "id": "rr3DRMpDb3iY",
        "outputId": "477cd2bb-d681-492b-cb7a-17abf0866f14"
      },
      "source": [
        "grp = df.groupby('Medal')\n",
        "grp1 = grp.get_group('Gold')\n",
        "\n",
        "data = []\n",
        "\n",
        "for sport in grp1['Sport'].unique():\n",
        "    data.append([sport , len(grp1[grp1['Sport']  == sport])])\n",
        "    \n",
        "data = pd.DataFrame(data , columns = ['Sport','Freq'])\n",
        "data = data.sort_values(by = 'Freq',ascending = False).head()\n",
        "data.plot( x = 'Sport', y = 'Freq',kind = 'bar',figsize = (10,5))"
      ],
      "execution_count": 10,
      "outputs": [
        {
          "output_type": "execute_result",
          "data": {
            "text/plain": [
              "<matplotlib.axes._subplots.AxesSubplot at 0x7f0dff2f5090>"
            ]
          },
          "metadata": {},
          "execution_count": 10
        },
        {
          "output_type": "display_data",
          "data": {
            "image/png": "[encoded data removed]",
            "text/plain": [
              "<Figure size 720x360 with 1 Axes>"
            ]
          },
          "metadata": {
            "needs_background": "light"
          }
        }
      ]
    },
    {
      "cell_type": "markdown",
      "metadata": {
        "id": "0NZyKObkb3iY"
      },
      "source": [
        "### 3. Which sport is having most number of medals so far? (Top 5)"
      ]
    },
    {
      "cell_type": "markdown",
      "metadata": {
        "id": "ikiF0wnHc5o2"
      },
      "source": [
        "[Note] this part takes a while to execute ,it may take between 35-50 sec to run ,please be patient "
      ]
    },
    {
      "cell_type": "code",
      "metadata": {
        "colab": {
          "base_uri": "https://localhost:8080/",
          "height": 399
        },
        "id": "9wx5MZwJb3iZ",
        "outputId": "584a431a-ac8e-44bf-ef0f-75a231ea018f"
      },
      "source": [
        "data = []\n",
        "\n",
        "for sport in df['Sport'].unique():\n",
        "    data.append([sport , len(df[df['Sport']  == sport])])\n",
        "\n",
        "pd.DataFrame(data,columns = ['Sport','freq']).sort_values(by='freq', ascending=False).head().plot(x = 'Sport', y = 'freq', kind = 'bar', figsize = (10,5))"
      ],
      "execution_count": 9,
      "outputs": [
        {
          "output_type": "execute_result",
          "data": {
            "text/plain": [
              "<matplotlib.axes._subplots.AxesSubplot at 0x7f0dffc2c890>"
            ]
          },
          "metadata": {},
          "execution_count": 9
        },
        {
          "output_type": "display_data",
          "data": {
            "image/png": "[encoded data removed]",
            "text/plain": [
              "<Figure size 720x360 with 1 Axes>"
            ]
          },
          "metadata": {
            "needs_background": "light"
          }
        }
      ]
    },
    {
      "cell_type": "markdown",
      "metadata": {
        "id": "-EXD-7CMb3iZ"
      },
      "source": [
        "### 4. Which player has won most number of medals? (Top 5)"
      ]
    },
    {
      "cell_type": "code",
      "metadata": {
        "colab": {
          "base_uri": "https://localhost:8080/",
          "height": 458
        },
        "id": "HEMMg7Ivb3ia",
        "outputId": "ab207063-2ed0-4ce7-df55-16c52d35edc3"
      },
      "source": [
        "data = []\n",
        "\n",
        "for player in df['Athlete'].unique():\n",
        "    data.append([player, len(df[df['Athlete'] == player])])\n",
        "\n",
        "\n",
        "pd.DataFrame(data,columns = ['Athlete','freq']).sort_values(by='freq', ascending=False).head().plot(x = 'Athlete', y = 'freq', kind = 'bar', figsize = (10,5))\n"
      ],
      "execution_count": 5,
      "outputs": [
        {
          "output_type": "stream",
          "name": "stdout",
          "text": [
            "--- 48.07820177078247 seconds ---\n"
          ]
        },
        {
          "output_type": "display_data",
          "data": {
            "image/png": "[encoded data removed]",
            "text/plain": [
              "<Figure size 720x360 with 1 Axes>"
            ]
          },
          "metadata": {
            "needs_background": "light"
          }
        }
      ]
    },
    {
      "cell_type": "markdown",
      "metadata": {
        "id": "fPS0YDL7b3ia"
      },
      "source": [
        "### 5. Which player has won most number Gold Medals of medals? (Top 5)"
      ]
    },
    {
      "cell_type": "code",
      "metadata": {
        "id": "Tg8mFtR4b3ib",
        "outputId": "ae37b946-79c2-4db2-d951-c31c2d87bbd9"
      },
      "source": [
        "grp = df.groupby('Medal')\n",
        "grp1 = grp.get_group('Gold')\n",
        "\n",
        "data = []\n",
        "\n",
        "for player in grp1['Athlete'].unique():\n",
        "    data.append([player, len(grp1[grp1['Athlete'] == player])])\n",
        "    \n",
        "pd.DataFrame(data,columns = ['Athlete','freq']).sort_values(by='freq', ascending=False).head().plot(x = 'Athlete', y = 'freq', kind = 'bar', figsize = (10,5))"
      ],
      "execution_count": null,
      "outputs": [
        {
          "data": {
            "text/plain": [
              "<AxesSubplot:xlabel='Athlete'>"
            ]
          },
          "execution_count": 7,
          "metadata": {},
          "output_type": "execute_result"
        },
        {
          "data": {
            "image/png": "[encoded data removed]",
            "text/plain": [
              "<Figure size 720x360 with 1 Axes>"
            ]
          },
          "metadata": {
            "needs_background": "light"
          },
          "output_type": "display_data"
        }
      ]
    },
    {
      "cell_type": "markdown",
      "metadata": {
        "id": "mX4Fb-sUb3ib"
      },
      "source": [
        "### 6. In which year India won first Gold Medal in Summer Olympics?"
      ]
    },
    {
      "cell_type": "code",
      "metadata": {
        "id": "cZy3ZUJXb3ib",
        "outputId": "e70af550-9c0f-405e-cbd3-4be664fbf4f2"
      },
      "source": [
        "i1 = df[df['Country'] == 'IND'].head(1).sort_values(by='Year', ascending = True)\n",
        "y = 0\n",
        "for x in i1['Year']:\n",
        "    y = y + x\n",
        "print(\"India won first gold medal in the year\",y,\"in summer olympics\")    "
      ],
      "execution_count": null,
      "outputs": [
        {
          "name": "stdout",
          "output_type": "stream",
          "text": [
            "India won first gold medal in the year 1900 in summer olympics\n"
          ]
        }
      ]
    },
    {
      "cell_type": "markdown",
      "metadata": {
        "id": "ESyMxIZib3ic"
      },
      "source": [
        "### 7. Which event is most popular in terms on number of players? (Top 5)"
      ]
    },
    {
      "cell_type": "code",
      "metadata": {
        "id": "oJdyxi3Vb3ic",
        "outputId": "531ed3a6-f42a-4894-edb3-e24fa5c855a0"
      },
      "source": [
        "data = []\n",
        "\n",
        "for sport in df['Event'].unique():\n",
        "    data.append([sport , len(df[df['Event']  == sport])])\n",
        "\n",
        "pd.DataFrame(data,columns = ['Event','freq']).sort_values(by='freq', ascending=False).head().plot(x = 'Event', y = 'freq', kind = 'bar', figsize = (10,5))"
      ],
      "execution_count": null,
      "outputs": [
        {
          "data": {
            "text/plain": [
              "<AxesSubplot:xlabel='Event'>"
            ]
          },
          "execution_count": 8,
          "metadata": {},
          "output_type": "execute_result"
        },
        {
          "data": {
            "image/png": "[encoded data removed]",
            "text/plain": [
              "<Figure size 720x360 with 1 Axes>"
            ]
          },
          "metadata": {
            "needs_background": "light"
          },
          "output_type": "display_data"
        }
      ]
    },
    {
      "cell_type": "markdown",
      "metadata": {
        "id": "pgxj6ePEb3ic"
      },
      "source": [
        "### 8. Which sport is having most female Gold Medalists? (Top 5)"
      ]
    },
    {
      "cell_type": "code",
      "metadata": {
        "colab": {
          "base_uri": "https://localhost:8080/",
          "height": 399
        },
        "id": "5ThQ9GZjb3ic",
        "outputId": "d1e042cc-e87e-496e-c520-5ba188b9627b"
      },
      "source": [
        "grp = df.groupby(['Medal', 'Gender'])\n",
        "grp1 = grp.get_group(('Gold', 'Women'))\n",
        "\n",
        "data = []\n",
        "\n",
        "for player in grp1['Sport'].unique():\n",
        "    data.append([player, len(grp1[grp1['Sport'] == player])])\n",
        "    \n",
        "data = pd.DataFrame(data , columns = ['Sport','Freq'])\n",
        "data = data.sort_values(by = 'Freq',ascending = False).head()\n",
        "data.plot( x = 'Sport', y = 'Freq',kind = 'bar',figsize = (10,5))"
      ],
      "execution_count": 6,
      "outputs": [
        {
          "output_type": "execute_result",
          "data": {
            "text/plain": [
              "<matplotlib.axes._subplots.AxesSubplot at 0x7f0dff769390>"
            ]
          },
          "metadata": {},
          "execution_count": 6
        },
        {
          "output_type": "display_data",
          "data": {
            "image/png": "[encoded data removed]",
            "text/plain": [
              "<Figure size 720x360 with 1 Axes>"
            ]
          },
          "metadata": {
            "needs_background": "light"
          }
        }
      ]
    }
  ]
}